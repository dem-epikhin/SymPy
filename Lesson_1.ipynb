{
  "nbformat": 4,
  "nbformat_minor": 0,
  "metadata": {
    "colab": {
      "provenance": [],
      "authorship_tag": "ABX9TyPBnDYnuAnXKQdXf7WnmB4t",
      "include_colab_link": true
    },
    "kernelspec": {
      "name": "python3",
      "display_name": "Python 3"
    },
    "language_info": {
      "name": "python"
    }
  },
  "cells": [
    {
      "cell_type": "markdown",
      "metadata": {
        "id": "view-in-github",
        "colab_type": "text"
      },
      "source": [
        "<a href=\"https://colab.research.google.com/github/dem-epikhin/SymPy/blob/main/Lesson_1.ipynb\" target=\"_parent\"><img src=\"https://colab.research.google.com/assets/colab-badge.svg\" alt=\"Open In Colab\"/></a>"
      ]
    },
    {
      "cell_type": "code",
      "execution_count": 2,
      "metadata": {
        "id": "V2gnOTQXDuvF",
        "colab": {
          "base_uri": "https://localhost:8080/",
          "height": 54
        },
        "outputId": "ef302da4-56b8-466e-bae0-da67dd4de21d"
      },
      "outputs": [
        {
          "output_type": "execute_result",
          "data": {
            "text/plain": [
              " 2\n",
              "x \n",
              "--\n",
              "2 "
            ],
            "text/latex": "$\\displaystyle \\frac{x^{2}}{2}$"
          },
          "metadata": {},
          "execution_count": 2
        }
      ],
      "source": [
        "#Library import\n",
        "from sympy import *\n",
        "\n",
        "init_printing(use_unicode=False, wrap_line=False, no_global=True)\n",
        "\n",
        "#Make x a character variable\n",
        "x = Symbol('x')\n",
        "x**2/2"
      ]
    },
    {
      "cell_type": "code",
      "source": [
        "y = Symbol('y')\n",
        "y"
      ],
      "metadata": {
        "colab": {
          "base_uri": "https://localhost:8080/",
          "height": 38
        },
        "id": "_2FUouAUIc1q",
        "outputId": "8890edd5-ff37-4510-8eb3-51617882f30b"
      },
      "execution_count": 10,
      "outputs": [
        {
          "output_type": "execute_result",
          "data": {
            "text/plain": [
              "y"
            ],
            "text/latex": "$\\displaystyle y$"
          },
          "metadata": {},
          "execution_count": 10
        }
      ]
    },
    {
      "cell_type": "code",
      "source": [
        "#Написать выражение\n",
        "expression = (x**2-y**2)/(x**2+2*x*y+y**2)\n",
        "expression"
      ],
      "metadata": {
        "colab": {
          "base_uri": "https://localhost:8080/",
          "height": 57
        },
        "id": "PUjdB8yVJKWW",
        "outputId": "bace6ce5-9ede-4bcf-b323-015eeeeef5dd"
      },
      "execution_count": 15,
      "outputs": [
        {
          "output_type": "execute_result",
          "data": {
            "text/plain": [
              "     2    2    \n",
              "    x  - y     \n",
              "---------------\n",
              " 2            2\n",
              "x  + 2*x*y + y "
            ],
            "text/latex": "$\\displaystyle \\frac{x^{2} - y^{2}}{x^{2} + 2 x y + y^{2}}$"
          },
          "metadata": {},
          "execution_count": 15
        }
      ]
    },
    {
      "cell_type": "code",
      "source": [
        "simplify(expression)"
      ],
      "metadata": {
        "colab": {
          "base_uri": "https://localhost:8080/",
          "height": 53
        },
        "id": "lYB9mIWPKJHl",
        "outputId": "ea763622-9c81-4a16-ac15-54d40f93ab84"
      },
      "execution_count": 17,
      "outputs": [
        {
          "output_type": "execute_result",
          "data": {
            "text/plain": [
              "x - y\n",
              "-----\n",
              "x + y"
            ],
            "text/latex": "$\\displaystyle \\frac{x - y}{x + y}$"
          },
          "metadata": {},
          "execution_count": 17
        }
      ]
    },
    {
      "cell_type": "code",
      "source": [
        "#Выражение 2\n",
        "m = Symbol('m')\n",
        "\n",
        "expression2 = ((10*m**2)/(3+2*m)-5*m)/((30*m**2-15*m)/(8*m**3+27))\n",
        "expression2"
      ],
      "metadata": {
        "id": "fE1HhOhfOI4M",
        "outputId": "562aceed-1073-4f5c-aaea-87bf6a0f5270",
        "colab": {
          "base_uri": "https://localhost:8080/",
          "height": 67
        }
      },
      "execution_count": 31,
      "outputs": [
        {
          "output_type": "execute_result",
          "data": {
            "text/plain": [
              "            /     2       \\\n",
              "/   3     \\ | 10*m        |\n",
              "\\8*m  + 27/*|------- - 5*m|\n",
              "            \\2*m + 3      /\n",
              "---------------------------\n",
              "            2              \n",
              "        30*m  - 15*m       "
            ],
            "text/latex": "$\\displaystyle \\frac{\\left(8 m^{3} + 27\\right) \\left(\\frac{10 m^{2}}{2 m + 3} - 5 m\\right)}{30 m^{2} - 15 m}$"
          },
          "metadata": {},
          "execution_count": 31
        }
      ]
    },
    {
      "cell_type": "code",
      "source": [
        "simplify(expression2)"
      ],
      "metadata": {
        "id": "RUBNEnttRcPU",
        "outputId": "65cd8991-7409-49b5-f548-63101f96d842",
        "colab": {
          "base_uri": "https://localhost:8080/",
          "height": 55
        }
      },
      "execution_count": 32,
      "outputs": [
        {
          "output_type": "execute_result",
          "data": {
            "text/plain": [
              "     2          \n",
              "- 4*m  + 6*m - 9\n",
              "----------------\n",
              "    2*m - 1     "
            ],
            "text/latex": "$\\displaystyle \\frac{- 4 m^{2} + 6 m - 9}{2 m - 1}$"
          },
          "metadata": {},
          "execution_count": 32
        }
      ]
    },
    {
      "cell_type": "markdown",
      "source": [
        "Home work"
      ],
      "metadata": {
        "id": "ipPj3cp1W7SM"
      }
    },
    {
      "cell_type": "code",
      "source": [
        "#Задача\n",
        "expressionhm = ((3*x**2+4*x)/(x**2-2*x))-((2*x+7)/x)-((x+8)/(x-2))\n",
        "expressionhm"
      ],
      "metadata": {
        "id": "QM8Ard-7W-ca",
        "outputId": "47ad77ff-1f46-4a93-ecc1-f8e4185b7ef1",
        "colab": {
          "base_uri": "https://localhost:8080/",
          "height": 55
        }
      },
      "execution_count": 33,
      "outputs": [
        {
          "output_type": "execute_result",
          "data": {
            "text/plain": [
              "   2                        \n",
              "3*x  + 4*x   x + 8   2*x + 7\n",
              "---------- - ----- - -------\n",
              "  2          x - 2      x   \n",
              " x  - 2*x                   "
            ],
            "text/latex": "$\\displaystyle \\frac{3 x^{2} + 4 x}{x^{2} - 2 x} - \\frac{x + 8}{x - 2} - \\frac{2 x + 7}{x}$"
          },
          "metadata": {},
          "execution_count": 33
        }
      ]
    },
    {
      "cell_type": "code",
      "source": [
        "#Решение\n",
        "simplify(expressionhm)"
      ],
      "metadata": {
        "id": "ycH6pVCOXkc1",
        "outputId": "ac6412e1-5e12-4f2f-9df5-6d42a535c32d",
        "colab": {
          "base_uri": "https://localhost:8080/",
          "height": 51
        }
      },
      "execution_count": 34,
      "outputs": [
        {
          "output_type": "execute_result",
          "data": {
            "text/plain": [
              "-7 \n",
              "---\n",
              " x "
            ],
            "text/latex": "$\\displaystyle - \\frac{7}{x}$"
          },
          "metadata": {},
          "execution_count": 34
        }
      ]
    }
  ]
}