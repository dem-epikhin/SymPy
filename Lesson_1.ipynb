{
  "nbformat": 4,
  "nbformat_minor": 0,
  "metadata": {
    "colab": {
      "provenance": [],
      "authorship_tag": "ABX9TyOmhEt8+NIR2Zruo1Oe53Bv",
      "include_colab_link": true
    },
    "kernelspec": {
      "name": "python3",
      "display_name": "Python 3"
    },
    "language_info": {
      "name": "python"
    }
  },
  "cells": [
    {
      "cell_type": "markdown",
      "metadata": {
        "id": "view-in-github",
        "colab_type": "text"
      },
      "source": [
        "<a href=\"https://colab.research.google.com/github/dem-epikhin/SymPy/blob/main/Lesson_1.ipynb\" target=\"_parent\"><img src=\"https://colab.research.google.com/assets/colab-badge.svg\" alt=\"Open In Colab\"/></a>"
      ]
    },
    {
      "cell_type": "code",
      "execution_count": 2,
      "metadata": {
        "id": "V2gnOTQXDuvF",
        "colab": {
          "base_uri": "https://localhost:8080/",
          "height": 54
        },
        "outputId": "ef302da4-56b8-466e-bae0-da67dd4de21d"
      },
      "outputs": [
        {
          "output_type": "execute_result",
          "data": {
            "text/plain": [
              " 2\n",
              "x \n",
              "--\n",
              "2 "
            ],
            "text/latex": "$\\displaystyle \\frac{x^{2}}{2}$"
          },
          "metadata": {},
          "execution_count": 2
        }
      ],
      "source": [
        "#Library import\n",
        "from sympy import *\n",
        "\n",
        "init_printing(use_unicode=False, wrap_line=False, no_global=True)\n",
        "\n",
        "#Make x a character variable\n",
        "x = Symbol('x')\n",
        "x**2/2"
      ]
    },
    {
      "cell_type": "code",
      "source": [
        "y = Symbol('y')\n",
        "y"
      ],
      "metadata": {
        "id": "_2FUouAUIc1q",
        "outputId": "8890edd5-ff37-4510-8eb3-51617882f30b",
        "colab": {
          "base_uri": "https://localhost:8080/",
          "height": 38
        }
      },
      "execution_count": 10,
      "outputs": [
        {
          "output_type": "execute_result",
          "data": {
            "text/plain": [
              "y"
            ],
            "text/latex": "$\\displaystyle y$"
          },
          "metadata": {},
          "execution_count": 10
        }
      ]
    },
    {
      "cell_type": "code",
      "source": [
        "#Написать выражение\n",
        "expression = (x**2-y**2)/(x**2+2*x*y+y**2)\n",
        "expression"
      ],
      "metadata": {
        "id": "PUjdB8yVJKWW",
        "outputId": "bace6ce5-9ede-4bcf-b323-015eeeeef5dd",
        "colab": {
          "base_uri": "https://localhost:8080/",
          "height": 57
        }
      },
      "execution_count": 15,
      "outputs": [
        {
          "output_type": "execute_result",
          "data": {
            "text/plain": [
              "     2    2    \n",
              "    x  - y     \n",
              "---------------\n",
              " 2            2\n",
              "x  + 2*x*y + y "
            ],
            "text/latex": "$\\displaystyle \\frac{x^{2} - y^{2}}{x^{2} + 2 x y + y^{2}}$"
          },
          "metadata": {},
          "execution_count": 15
        }
      ]
    },
    {
      "cell_type": "code",
      "source": [
        "simplify(expression)"
      ],
      "metadata": {
        "id": "lYB9mIWPKJHl",
        "outputId": "ea763622-9c81-4a16-ac15-54d40f93ab84",
        "colab": {
          "base_uri": "https://localhost:8080/",
          "height": 53
        }
      },
      "execution_count": 17,
      "outputs": [
        {
          "output_type": "execute_result",
          "data": {
            "text/plain": [
              "x - y\n",
              "-----\n",
              "x + y"
            ],
            "text/latex": "$\\displaystyle \\frac{x - y}{x + y}$"
          },
          "metadata": {},
          "execution_count": 17
        }
      ]
    }
  ]
}